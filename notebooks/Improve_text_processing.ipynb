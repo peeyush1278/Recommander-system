{
 "cells": [
  {
   "cell_type": "code",
   "execution_count": 2,
   "id": "0e0b7c43",
   "metadata": {},
   "outputs": [],
   "source": [
    "import pandas as pd\n",
    "import numpy as np\n",
    "import nltk\n",
    "from nltk.corpus import stopwords\n",
    "from nltk.stem import PorterStemmer\n",
    "from sklearn.feature_extraction.text import TfidfVectorizer"
   ]
  },
  {
   "cell_type": "code",
   "execution_count": null,
   "id": "cf008098",
   "metadata": {},
   "outputs": [
    {
     "name": "stderr",
     "output_type": "stream",
     "text": [
      "[nltk_data] Downloading package stopwords to\n",
      "[nltk_data]     C:\\Users\\giris\\AppData\\Roaming\\nltk_data...\n",
      "[nltk_data]   Package stopwords is already up-to-date!\n"
     ]
    },
    {
     "data": {
      "text/plain": [
       "True"
      ]
     },
     "execution_count": 3,
     "metadata": {},
     "output_type": "execute_result"
    }
   ],
   "source": [
    "nltk.download('stopwords')"
   ]
  },
  {
   "cell_type": "code",
   "execution_count": 5,
   "id": "95606f96",
   "metadata": {},
   "outputs": [],
   "source": [
    "processed_path = r'C:\\\\Users\\\\giris\\\\OneDrive\\\\Documents\\\\GitHub\\\\Recommander-system\\Data\\\\Processed\\\\cleaned_amazon.csv'\n",
    "df = pd.read_csv(processed_path)"
   ]
  },
  {
   "cell_type": "code",
   "execution_count": 6,
   "id": "0e9a6f62",
   "metadata": {},
   "outputs": [],
   "source": [
    "def preprocess_text(text):\n",
    "    if isinstance(text, float) and pd.isna(text):\n",
    "        return \"\"\n",
    "\n",
    "    text = text.lower()\n",
    "\n",
    "    words = text.split()\n",
    "\n",
    "    stop_words = set(stopwords.words('english'))\n",
    "    filtered_words = [word for word in words if word not in stop_words]\n",
    "\n",
    "    stemmer = PorterStemmer()\n",
    "    stemmed_words = [stemmer.stem(word) for word in filtered_words]\n",
    "\n",
    "    return \" \".join(stemmed_words)"
   ]
  },
  {
   "cell_type": "code",
   "execution_count": 7,
   "id": "f2b5c8a6",
   "metadata": {},
   "outputs": [],
   "source": [
    "df['combined_text'] = df['product_name'].fillna('') + ' ' + df['about_product'].fillna('')\n",
    "\n",
    "df['preprocessed_text'] = df['combined_text'].apply(preprocess_text)\n",
    "\n",
    "tfidf_vectorizer = TfidfVectorizer(max_features=5000)\n",
    "tfidf_matrix = tfidf_vectorizer.fit_transform(df['preprocessed_text'])\n",
    "\n",
    "product_features = pd.DataFrame(tfidf_matrix.toarray(), columns=tfidf_vectorizer.get_feature_names_out())\n",
    "product_features.index = df['product_id']\n",
    "\n",
    "category_df = pd.get_dummies(df['category'], prefix='category')\n",
    "category_df.index = df['product_id']\n",
    "product_features = product_features.merge(category_df, left_index=True, right_index=True)\n"
   ]
  },
  {
   "cell_type": "code",
   "execution_count": 8,
   "id": "cabdf321",
   "metadata": {},
   "outputs": [],
   "source": [
    "from sklearn.metrics.pairwise import cosine_similarity\n",
    "\n",
    "cosine_sim_matrix = cosine_similarity(product_features)"
   ]
  },
  {
   "cell_type": "code",
   "execution_count": 9,
   "id": "89a7275e",
   "metadata": {},
   "outputs": [
    {
     "name": "stdout",
     "output_type": "stream",
     "text": [
      "Updated product features and similarity matrix saved.\n"
     ]
    }
   ],
   "source": [
    "processed_path = r'C:\\Users\\giris\\OneDrive\\Documents\\GitHub\\Recommander-system\\Data\\Processed'\n",
    "\n",
    "product_features.to_csv(f'{processed_path}/product_features_v2.csv', index=False)\n",
    "\n",
    "np.save(f'{processed_path}/cosine_sim_matrix_v2.npy', cosine_sim_matrix)\n",
    "\n",
    "print(\"Updated product features and similarity matrix saved.\")"
   ]
  },
  {
   "cell_type": "code",
   "execution_count": null,
   "id": "3434e858",
   "metadata": {},
   "outputs": [],
   "source": []
  }
 ],
 "metadata": {
  "kernelspec": {
   "display_name": "Python 3",
   "language": "python",
   "name": "python3"
  },
  "language_info": {
   "codemirror_mode": {
    "name": "ipython",
    "version": 3
   },
   "file_extension": ".py",
   "mimetype": "text/x-python",
   "name": "python",
   "nbconvert_exporter": "python",
   "pygments_lexer": "ipython3",
   "version": "3.9.13"
  }
 },
 "nbformat": 4,
 "nbformat_minor": 5
}
