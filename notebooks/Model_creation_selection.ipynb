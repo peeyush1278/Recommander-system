{
 "cells": [
  {
   "cell_type": "code",
   "execution_count": 1,
   "id": "93b58742",
   "metadata": {},
   "outputs": [],
   "source": [
    "import numpy as np\n",
    "import pandas as pd"
   ]
  },
  {
   "cell_type": "code",
   "execution_count": 8,
   "id": "60faf676",
   "metadata": {},
   "outputs": [],
   "source": [
    "product_features=pd.read_csv('C:\\\\Users\\\\giris\\\\OneDrive\\\\Documents\\\\GitHub\\\\Recommander-system\\\\Data\\\\Processed\\\\product_features.csv')\n",
    "df=pd.read_csv('C:\\\\Users\\\\giris\\\\OneDrive\\\\Documents\\\\GitHub\\\\Recommander-system\\\\Data\\\\Processed\\\\cleaned_amazon.csv')\n",
    "cosine_sim_matrix=np.load('C:\\\\Users\\\\giris\\\\OneDrive\\\\Documents\\\\GitHub\\\\Recommander-system\\\\Data\\\\Processed\\\\cosine_sim_matrix.npy')"
   ]
  },
  {
   "cell_type": "code",
   "execution_count": 9,
   "id": "38054816",
   "metadata": {},
   "outputs": [],
   "source": [
    "def get_recommendations(product_name, cosine_sim_matrix, product_df, num_recommendations=10):\n",
    "    indices = pd.Series(product_df.index, index=product_df['product_name']).drop_duplicates()\n",
    "\n",
    "    try:\n",
    "        idx = indices[product_name]\n",
    "    except KeyError:\n",
    "        return \"Product not found. Please check the product name.\"\n",
    "    sim_scores = list(enumerate(cosine_sim_matrix[idx]))\n",
    "    sim_scores = sorted(sim_scores, key=lambda x: x[1], reverse=True)\n",
    "    sim_scores = sim_scores[1:num_recommendations+1]\n",
    "    product_indices = [i[0] for i in sim_scores]\n",
    "    return product_df.iloc[product_indices][['product_name', 'category', 'rating', 'actual_price']]"
   ]
  },
  {
   "cell_type": "code",
   "execution_count": 21,
   "id": "930a74ae",
   "metadata": {},
   "outputs": [
    {
     "name": "stdout",
     "output_type": "stream",
     "text": [
      "Recommendations for 'MI 80 cm (32 inches) 5A Series HD Ready Smart Android LED TV L32M7-5AIN (Black)':\n",
      "                                          product_name  \\\n",
      "16   MI 80 cm (32 inches) 5A Series HD Ready Smart ...   \n",
      "17   Ambrane Unbreakable 60W / 3A Fast Charging 1.5...   \n",
      "508  Noise ColorFit Pro 2 Full Touch Control Smart ...   \n",
      "509  Redmi Note 11T 5G (Aquamarine Blue, 6GB RAM, 1...   \n",
      "510  Newly Launched Boult Dive+ with 1.85\" HD Displ...   \n",
      "828  Logitech MK270r USB Wireless Keyboard and Mous...   \n",
      "829  DIGITEK® (DTR-200MT) (18 CM) Portable & Flexib...   \n",
      "830  FEDUS Cat6 Ethernet Cable, 10 Meter High Speed...   \n",
      "82   SKYWALL 81.28 cm (32 inches) HD Ready Smart LE...   \n",
      "83   boAt A 350 Type C Cable for Smartphone, Chargi...   \n",
      "\n",
      "                                              category  rating  actual_price  \n",
      "16   Electronics|HomeTheater,TV&Video|Televisions|S...     4.2       24999.0  \n",
      "17   Computers&Accessories|Accessories&Peripherals|...     4.0         399.0  \n",
      "508        Electronics|WearableTechnology|SmartWatches     4.0        4999.0  \n",
      "509  Electronics|Mobiles&Accessories|Smartphones&Ba...     4.1       20999.0  \n",
      "510        Electronics|WearableTechnology|SmartWatches     4.3        8499.0  \n",
      "828  Computers&Accessories|Accessories&Peripherals|...     4.2        2295.0  \n",
      "829  Electronics|Cameras&Photography|Accessories|Tr...     4.2         995.0  \n",
      "830  Computers&Accessories|Accessories&Peripherals|...     4.4         499.0  \n",
      "82   Electronics|HomeTheater,TV&Video|Televisions|S...     3.4       19125.0  \n",
      "83   Computers&Accessories|Accessories&Peripherals|...     4.4         799.0  \n"
     ]
    }
   ],
   "source": [
    "product_name = 'MI 80 cm (32 inches) 5A Series HD Ready Smart Android LED TV L32M7-5AIN (Black)' \n",
    "recommendations = get_recommendations(product_name, cosine_sim_matrix, df, num_recommendations=10)\n",
    "\n",
    "if isinstance(recommendations, pd.DataFrame):\n",
    "    print(f\"Recommendations for '{product_name}':\")\n",
    "    print(recommendations)\n",
    "else:\n",
    "    print(recommendations)"
   ]
  }
 ],
 "metadata": {
  "kernelspec": {
   "display_name": "Python 3",
   "language": "python",
   "name": "python3"
  },
  "language_info": {
   "codemirror_mode": {
    "name": "ipython",
    "version": 3
   },
   "file_extension": ".py",
   "mimetype": "text/x-python",
   "name": "python",
   "nbconvert_exporter": "python",
   "pygments_lexer": "ipython3",
   "version": "3.9.13"
  }
 },
 "nbformat": 4,
 "nbformat_minor": 5
}
