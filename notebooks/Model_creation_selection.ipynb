{
 "cells": [
  {
   "cell_type": "code",
   "execution_count": 15,
   "id": "93b58742",
   "metadata": {},
   "outputs": [],
   "source": [
    "import numpy as np\n",
    "import pandas as pd\n",
    "from sklearn.feature_extraction.text import TfidfVectorizer"
   ]
  },
  {
   "cell_type": "code",
   "execution_count": 7,
   "id": "60faf676",
   "metadata": {},
   "outputs": [],
   "source": [
    "# product_features=pd.read_csv('C:\\\\Users\\\\giris\\\\OneDrive\\\\Documents\\\\GitHub\\\\Recommander-system\\\\Data\\\\Processed\\\\product_features.csv') ===> old without text processing\n",
    "product_features=pd.read_csv('C:\\\\Users\\\\giris\\\\OneDrive\\\\Documents\\\\GitHub\\\\Recommander-system\\\\Data\\\\Processed\\\\product_features_v2.csv')\n",
    "df=pd.read_csv('C:\\\\Users\\\\giris\\\\OneDrive\\\\Documents\\\\GitHub\\\\Recommander-system\\\\Data\\\\Processed\\\\cleaned_amazon.csv')\n",
    "# cosine_sim_matrix=np.load('C:\\\\Users\\\\giris\\\\OneDrive\\\\Documents\\\\GitHub\\\\Recommander-system\\\\Data\\\\Processed\\\\cosine_sim_matrix.npy') ===> old without text processing\n",
    "cosine_sim_matrix=np.load('C:\\\\Users\\\\giris\\\\OneDrive\\\\Documents\\\\GitHub\\\\Recommander-system\\\\Data\\\\Processed\\\\cosine_sim_matrix_v2.npy')"
   ]
  },
  {
   "cell_type": "code",
   "execution_count": 8,
   "id": "38054816",
   "metadata": {},
   "outputs": [],
   "source": [
    "def get_recommendations(product_name, cosine_sim_matrix, product_df, num_recommendations=10):\n",
    "    indices = pd.Series(product_df.index, index=product_df['product_name']).drop_duplicates()\n",
    "\n",
    "    try:\n",
    "        idx = indices[product_name]\n",
    "    except KeyError:\n",
    "        return \"Product not found. Please check the product name.\"\n",
    "    sim_scores = list(enumerate(cosine_sim_matrix[idx]))\n",
    "    sim_scores = sorted(sim_scores, key=lambda x: x[1], reverse=True)\n",
    "    sim_scores = sim_scores[1:num_recommendations+1]\n",
    "    product_indices = [i[0] for i in sim_scores]\n",
    "    return product_df.iloc[product_indices][['product_name', 'category', 'rating', 'actual_price']]"
   ]
  },
  {
   "cell_type": "code",
   "execution_count": 9,
   "id": "930a74ae",
   "metadata": {},
   "outputs": [
    {
     "name": "stdout",
     "output_type": "stream",
     "text": [
      "Recommendations for 'MI 80 cm (32 inches) 5A Series HD Ready Smart Android LED TV L32M7-5AIN (Black)':\n",
      "                                          product_name  \\\n",
      "16   MI 80 cm (32 inches) 5A Series HD Ready Smart ...   \n",
      "17   Ambrane Unbreakable 60W / 3A Fast Charging 1.5...   \n",
      "508  Noise ColorFit Pro 2 Full Touch Control Smart ...   \n",
      "509  Redmi Note 11T 5G (Aquamarine Blue, 6GB RAM, 1...   \n",
      "510  Newly Launched Boult Dive+ with 1.85\" HD Displ...   \n",
      "828  Logitech MK270r USB Wireless Keyboard and Mous...   \n",
      "829  DIGITEK® (DTR-200MT) (18 CM) Portable & Flexib...   \n",
      "830  FEDUS Cat6 Ethernet Cable, 10 Meter High Speed...   \n",
      "82   SKYWALL 81.28 cm (32 inches) HD Ready Smart LE...   \n",
      "83   boAt A 350 Type C Cable for Smartphone, Chargi...   \n",
      "\n",
      "                                              category  rating  actual_price  \n",
      "16   Electronics|HomeTheater,TV&Video|Televisions|S...     4.2       24999.0  \n",
      "17   Computers&Accessories|Accessories&Peripherals|...     4.0         399.0  \n",
      "508        Electronics|WearableTechnology|SmartWatches     4.0        4999.0  \n",
      "509  Electronics|Mobiles&Accessories|Smartphones&Ba...     4.1       20999.0  \n",
      "510        Electronics|WearableTechnology|SmartWatches     4.3        8499.0  \n",
      "828  Computers&Accessories|Accessories&Peripherals|...     4.2        2295.0  \n",
      "829  Electronics|Cameras&Photography|Accessories|Tr...     4.2         995.0  \n",
      "830  Computers&Accessories|Accessories&Peripherals|...     4.4         499.0  \n",
      "82   Electronics|HomeTheater,TV&Video|Televisions|S...     3.4       19125.0  \n",
      "83   Computers&Accessories|Accessories&Peripherals|...     4.4         799.0  \n"
     ]
    }
   ],
   "source": [
    "product_name = 'MI 80 cm (32 inches) 5A Series HD Ready Smart Android LED TV L32M7-5AIN (Black)' \n",
    "recommendations = get_recommendations(product_name, cosine_sim_matrix, df, num_recommendations=10)\n",
    "\n",
    "if isinstance(recommendations, pd.DataFrame):\n",
    "    print(f\"Recommendations for '{product_name}':\")\n",
    "    print(recommendations)\n",
    "else:\n",
    "    print(recommendations)"
   ]
  },
  {
   "cell_type": "code",
   "execution_count": 10,
   "id": "928c6aed",
   "metadata": {},
   "outputs": [],
   "source": [
    "import pickle"
   ]
  },
  {
   "cell_type": "code",
   "execution_count": 12,
   "id": "cff6ef9f",
   "metadata": {},
   "outputs": [],
   "source": [
    "np.save(f'C:\\\\Users\\\\giris\\\\OneDrive\\\\Documents\\\\GitHub\\\\Recommander-system\\\\model', cosine_sim_matrix)"
   ]
  },
  {
   "cell_type": "code",
   "execution_count": 14,
   "id": "0e97eafb",
   "metadata": {},
   "outputs": [],
   "source": [
    "product_df_for_model = df[['product_id', 'product_name', 'category', 'rating', 'actual_price']].copy()\n",
    "product_df_for_model.to_csv(f'C:\\\\Users\\\\giris\\\\OneDrive\\\\Documents\\\\GitHub\\\\Recommander-system\\\\model\\\\products.csv', index=False)"
   ]
  },
  {
   "cell_type": "code",
   "execution_count": 16,
   "id": "46cfc470",
   "metadata": {},
   "outputs": [
    {
     "ename": "NameError",
     "evalue": "name 'tfidf_vectorizer' is not defined",
     "output_type": "error",
     "traceback": [
      "\u001b[1;31m---------------------------------------------------------------------------\u001b[0m",
      "\u001b[1;31mNameError\u001b[0m                                 Traceback (most recent call last)",
      "Cell \u001b[1;32mIn[16], line 2\u001b[0m\n\u001b[0;32m      1\u001b[0m \u001b[38;5;28;01mwith\u001b[39;00m \u001b[38;5;28mopen\u001b[39m(\u001b[38;5;124mf\u001b[39m\u001b[38;5;124m'\u001b[39m\u001b[38;5;124mC:\u001b[39m\u001b[38;5;130;01m\\\\\u001b[39;00m\u001b[38;5;124mUsers\u001b[39m\u001b[38;5;130;01m\\\\\u001b[39;00m\u001b[38;5;124mgiris\u001b[39m\u001b[38;5;130;01m\\\\\u001b[39;00m\u001b[38;5;124mOneDrive\u001b[39m\u001b[38;5;130;01m\\\\\u001b[39;00m\u001b[38;5;124mDocuments\u001b[39m\u001b[38;5;130;01m\\\\\u001b[39;00m\u001b[38;5;124mGitHub\u001b[39m\u001b[38;5;130;01m\\\\\u001b[39;00m\u001b[38;5;124mRecommander-system\u001b[39m\u001b[38;5;130;01m\\\\\u001b[39;00m\u001b[38;5;124mmodel\u001b[39m\u001b[38;5;130;01m\\\\\u001b[39;00m\u001b[38;5;124mtfidf_vectorizer.pkl\u001b[39m\u001b[38;5;124m'\u001b[39m, \u001b[38;5;124m'\u001b[39m\u001b[38;5;124mwb\u001b[39m\u001b[38;5;124m'\u001b[39m) \u001b[38;5;28;01mas\u001b[39;00m f:\n\u001b[1;32m----> 2\u001b[0m     pickle\u001b[38;5;241m.\u001b[39mdump(\u001b[43mtfidf_vectorizer\u001b[49m, f)\n",
      "\u001b[1;31mNameError\u001b[0m: name 'tfidf_vectorizer' is not defined"
     ]
    }
   ],
   "source": [
    "with open(f'C:\\\\Users\\\\giris\\\\OneDrive\\\\Documents\\\\GitHub\\\\Recommander-system\\\\model\\\\tfidf_vectorizer.pkl', 'wb') as f:\n",
    "    pickle.dump(tfidf_vectorizer, f)"
   ]
  },
  {
   "cell_type": "code",
   "execution_count": null,
   "id": "ef1c8ffa",
   "metadata": {},
   "outputs": [],
   "source": []
  }
 ],
 "metadata": {
  "kernelspec": {
   "display_name": "Python 3",
   "language": "python",
   "name": "python3"
  },
  "language_info": {
   "codemirror_mode": {
    "name": "ipython",
    "version": 3
   },
   "file_extension": ".py",
   "mimetype": "text/x-python",
   "name": "python",
   "nbconvert_exporter": "python",
   "pygments_lexer": "ipython3",
   "version": "3.9.13"
  }
 },
 "nbformat": 4,
 "nbformat_minor": 5
}
